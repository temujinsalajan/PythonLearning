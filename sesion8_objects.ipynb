{
 "cells": [
  {
   "cell_type": "code",
   "execution_count": 47,
   "id": "f169a263",
   "metadata": {},
   "outputs": [],
   "source": [
    "class Cat:\n",
    "    def __init__(self,name,age,status='sleeping'):\n",
    "        self.name = name\n",
    "        self.age = age\n",
    "        self.status = status\n",
    "        print('class is made')\n",
    "    def what_cat_doing(self):\n",
    "        print(f'{self.name} is currently {self.status} and having age {self.age}')\n",
    "    def change_status(self,new_status):\n",
    "        self.status = new_status\n",
    "    "
   ]
  },
  {
   "cell_type": "code",
   "execution_count": 48,
   "id": "67d9d72e",
   "metadata": {},
   "outputs": [
    {
     "name": "stdout",
     "output_type": "stream",
     "text": [
      "class is made\n",
      "class is made\n"
     ]
    }
   ],
   "source": [
    "c1 = Cat('lili',2)\n",
    "c2 = Cat('hapi',3)"
   ]
  },
  {
   "cell_type": "code",
   "execution_count": 49,
   "id": "b2ec850e",
   "metadata": {},
   "outputs": [
    {
     "data": {
      "text/plain": [
       "'sleeping'"
      ]
     },
     "execution_count": 49,
     "metadata": {},
     "output_type": "execute_result"
    }
   ],
   "source": [
    "c1.status"
   ]
  },
  {
   "cell_type": "code",
   "execution_count": 50,
   "id": "1b3508b2",
   "metadata": {},
   "outputs": [
    {
     "data": {
      "text/plain": [
       "'sleeping'"
      ]
     },
     "execution_count": 50,
     "metadata": {},
     "output_type": "execute_result"
    }
   ],
   "source": [
    "c2.status"
   ]
  },
  {
   "cell_type": "code",
   "execution_count": 51,
   "id": "c723ccbe",
   "metadata": {},
   "outputs": [
    {
     "name": "stdout",
     "output_type": "stream",
     "text": [
      "lili is currently sleeping and having age 2\n"
     ]
    }
   ],
   "source": [
    "c1.what_cat_doing()"
   ]
  },
  {
   "cell_type": "code",
   "execution_count": 52,
   "id": "2a6963b2",
   "metadata": {},
   "outputs": [
    {
     "name": "stdout",
     "output_type": "stream",
     "text": [
      "hapi is currently sleeping and having age 3\n"
     ]
    }
   ],
   "source": [
    "c2.what_cat_doing()"
   ]
  },
  {
   "cell_type": "code",
   "execution_count": 53,
   "id": "d2234f02",
   "metadata": {},
   "outputs": [],
   "source": [
    "c1.change_status('running')"
   ]
  },
  {
   "cell_type": "code",
   "execution_count": 54,
   "id": "f8eaf86b",
   "metadata": {},
   "outputs": [
    {
     "name": "stdout",
     "output_type": "stream",
     "text": [
      "lili is currently running and having age 2\n"
     ]
    }
   ],
   "source": [
    "c1.what_cat_doing()"
   ]
  },
  {
   "cell_type": "code",
   "execution_count": null,
   "id": "4c1c523c",
   "metadata": {},
   "outputs": [],
   "source": []
  },
  {
   "cell_type": "code",
   "execution_count": null,
   "id": "e151ef96",
   "metadata": {},
   "outputs": [],
   "source": []
  }
 ],
 "metadata": {
  "kernelspec": {
   "display_name": "base",
   "language": "python",
   "name": "python3"
  },
  "language_info": {
   "codemirror_mode": {
    "name": "ipython",
    "version": 3
   },
   "file_extension": ".py",
   "mimetype": "text/x-python",
   "name": "python",
   "nbconvert_exporter": "python",
   "pygments_lexer": "ipython3",
   "version": "3.13.5"
  }
 },
 "nbformat": 4,
 "nbformat_minor": 5
}
