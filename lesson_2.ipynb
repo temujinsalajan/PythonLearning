{
 "cells": [
  {
   "cell_type": "code",
   "execution_count": 3,
   "id": "840f4535",
   "metadata": {},
   "outputs": [],
   "source": [
    "friends = [\"Chinguun\",\"Anand\",\"Khuleg\"]"
   ]
  },
  {
   "cell_type": "code",
   "execution_count": 4,
   "id": "d3f42a45",
   "metadata": {},
   "outputs": [
    {
     "name": "stdout",
     "output_type": "stream",
     "text": [
      "hello Chinguun you are invited to dinner please reach on time \n",
      "hello Anand you are invited to dinner please reach on time \n",
      "hello Khuleg you are invited to dinner please reach on time \n"
     ]
    }
   ],
   "source": [
    "friends = [\"Chinguun\",\"Anand\",\"Khuleg\"]\n",
    "for friend in friends:\n",
    "    print(f'hello {friend} you are invited to dinner please reach on time ')"
   ]
  },
  {
   "cell_type": "code",
   "execution_count": 9,
   "id": "f8c932b7",
   "metadata": {},
   "outputs": [
    {
     "name": "stdout",
     "output_type": "stream",
     "text": [
      "hello Chinguun you are invited to dinner please reach on time \n",
      "hello Anand you are invited to dinner please reach on time \n",
      "hello Khuleg you are invited to dinner please reach on time \n",
      "my fav color is  blue\n",
      "my fav color is  red\n",
      "my fav color is  yellow\n",
      "hello Chinguun you are invited to dinner please reach on time \n",
      "hello Anand you are invited to dinner please reach on time \n",
      "hello Khuleg you are invited to dinner please reach on time \n",
      "my fav color is  blue\n",
      "my fav color is  red\n",
      "my fav color is  yellow\n"
     ]
    }
   ],
   "source": [
    "friends = [\"Chinguun\",\"Anand\",\"Khuleg\"]\n",
    "for friend in friends:\n",
    "    print(f'hello {friend} you are invited to dinner please reach on time ')\n",
    "\n",
    "colors = ['blue' , \"red\" , 'yellow']\n",
    "for color in colors :\n",
    "    print(f'my fav color is  {color}')\n",
    "    friends = [\"Chinguun\",\"Anand\",\"Khuleg\"]\n",
    "for friend in friends:\n",
    "    print(f'hello {friend} you are invited to dinner please reach on time ')\n",
    "\n",
    "colors = ['blue' , \"red\" , 'yellow']\n",
    "for color in colors :\n",
    "    print(f'my fav color is  {color}')\n",
    "    "
   ]
  },
  {
   "cell_type": "code",
   "execution_count": 10,
   "id": "4846e21e",
   "metadata": {},
   "outputs": [
    {
     "name": "stdout",
     "output_type": "stream",
     "text": [
      "blue\n",
      "turn right\n",
      "red\n",
      "turn left\n",
      "yellow\n"
     ]
    }
   ],
   "source": [
    "for color in colors:\n",
    "    x = input('please enter left or right:')\n",
    "    print(color)\n",
    "    if x=='left':\n",
    "        print('turn left')\n",
    "    elif x =='right':\n",
    "        print('turn right')"
   ]
  },
  {
   "cell_type": "code",
   "execution_count": null,
   "id": "ac398893",
   "metadata": {},
   "outputs": [],
   "source": []
  }
 ],
 "metadata": {
  "kernelspec": {
   "display_name": "base",
   "language": "python",
   "name": "python3"
  },
  "language_info": {
   "codemirror_mode": {
    "name": "ipython",
    "version": 3
   },
   "file_extension": ".py",
   "mimetype": "text/x-python",
   "name": "python",
   "nbconvert_exporter": "python",
   "pygments_lexer": "ipython3",
   "version": "3.13.5"
  }
 },
 "nbformat": 4,
 "nbformat_minor": 5
}
