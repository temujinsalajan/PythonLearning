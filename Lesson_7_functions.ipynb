{
 "cells": [
  {
   "cell_type": "code",
   "execution_count": 17,
   "id": "ab4b75ad",
   "metadata": {},
   "outputs": [],
   "source": [
    "def greeting(name):\n",
    "    return f'hello {name}'"
   ]
  },
  {
   "cell_type": "code",
   "execution_count": 20,
   "id": "27f21cf6",
   "metadata": {},
   "outputs": [
    {
     "data": {
      "text/plain": [
       "'hello Temujin'"
      ]
     },
     "execution_count": 20,
     "metadata": {},
     "output_type": "execute_result"
    }
   ],
   "source": [
    "greeting(\"Temujin\")"
   ]
  },
  {
   "cell_type": "code",
   "execution_count": 21,
   "id": "d639ff70",
   "metadata": {},
   "outputs": [
    {
     "data": {
      "text/plain": [
       "'hello umair'"
      ]
     },
     "execution_count": 21,
     "metadata": {},
     "output_type": "execute_result"
    }
   ],
   "source": [
    "greeting('umair')"
   ]
  },
  {
   "cell_type": "code",
   "execution_count": 22,
   "id": "a0b9ec94",
   "metadata": {},
   "outputs": [],
   "source": [
    "# if i give function 2 number it will return us sum and product\n",
    "def small_calculator(a,b):\n",
    "    c = a+b\n",
    "    d = a * b\n",
    "    return [c,d]"
   ]
  },
  {
   "cell_type": "code",
   "execution_count": 25,
   "id": "a7ef381c",
   "metadata": {},
   "outputs": [
    {
     "data": {
      "text/plain": [
       "[48049, 376118380]"
      ]
     },
     "execution_count": 25,
     "metadata": {},
     "output_type": "execute_result"
    }
   ],
   "source": [
    "small_calculator(9845,38204)"
   ]
  },
  {
   "cell_type": "code",
   "execution_count": null,
   "id": "b29157f4",
   "metadata": {},
   "outputs": [],
   "source": [
    "def "
   ]
  }
 ],
 "metadata": {
  "kernelspec": {
   "display_name": "base",
   "language": "python",
   "name": "python3"
  },
  "language_info": {
   "codemirror_mode": {
    "name": "ipython",
    "version": 3
   },
   "file_extension": ".py",
   "mimetype": "text/x-python",
   "name": "python",
   "nbconvert_exporter": "python",
   "pygments_lexer": "ipython3",
   "version": "3.13.5"
  }
 },
 "nbformat": 4,
 "nbformat_minor": 5
}
