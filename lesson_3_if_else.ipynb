{
 "cells": [
  {
   "cell_type": "code",
   "execution_count": 1,
   "id": "cf8b90c2",
   "metadata": {},
   "outputs": [
    {
     "name": "stdout",
     "output_type": "stream",
     "text": [
      "turn Fan of your PC off\n"
     ]
    }
   ],
   "source": [
    "temperature = 34\n",
    "if temperature >40:\n",
    "    print('turn Fan of PC on!')\n",
    "else:\n",
    "    print('turn Fan of your PC off')"
   ]
  },
  {
   "cell_type": "code",
   "execution_count": 12,
   "id": "db0faa8d",
   "metadata": {},
   "outputs": [
    {
     "name": "stdout",
     "output_type": "stream",
     "text": [
      "Device Error may be\n"
     ]
    }
   ],
   "source": [
    "### if temperature of body is more than 101.4 means you have temperature\n",
    "temperature = int(input('enter temperature: '))\n",
    "if temperature >95 and temperature <105:\n",
    "    if temperature >100:\n",
    "        print(\"you should take a rest\")\n",
    "    else:\n",
    "        print(\"you are ok nothing to worry about\")    \n",
    "else:\n",
    "    print(\"Device Error may be\")\n"
   ]
  },
  {
   "cell_type": "code",
   "execution_count": null,
   "id": "ecfcf00a",
   "metadata": {},
   "outputs": [],
   "source": []
  }
 ],
 "metadata": {
  "kernelspec": {
   "display_name": "base",
   "language": "python",
   "name": "python3"
  },
  "language_info": {
   "codemirror_mode": {
    "name": "ipython",
    "version": 3
   },
   "file_extension": ".py",
   "mimetype": "text/x-python",
   "name": "python",
   "nbconvert_exporter": "python",
   "pygments_lexer": "ipython3",
   "version": "3.13.5"
  }
 },
 "nbformat": 4,
 "nbformat_minor": 5
}
