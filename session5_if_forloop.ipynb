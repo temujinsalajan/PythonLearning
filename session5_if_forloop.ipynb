{
 "cells": [
  {
   "cell_type": "code",
   "execution_count": 1,
   "id": "a49f1f36",
   "metadata": {},
   "outputs": [],
   "source": [
    "import random"
   ]
  },
  {
   "cell_type": "code",
   "execution_count": 77,
   "id": "0dd73a84",
   "metadata": {},
   "outputs": [
    {
     "name": "stdout",
     "output_type": "stream",
     "text": [
      "2 is the number you wrote 1\n",
      "2 is the number you wrote 3\n",
      "5 is the number you wrote 2\n"
     ]
    }
   ],
   "source": [
    "for i in range(3):\n",
    "    x = random.randint(1,5)\n",
    "    y = input('please write number:')\n",
    "    print(f'{x} is the number you wrote {y}')"
   ]
  },
  {
   "cell_type": "code",
   "execution_count": 8,
   "id": "1297af55",
   "metadata": {},
   "outputs": [
    {
     "name": "stdout",
     "output_type": "stream",
     "text": [
      "78 is the number you wrote \n",
      "your number should be biggger\n",
      "90 is the number you wrote \n",
      "your number should be smaller\n",
      "89 is the number you wrote \n",
      "your number should be smaller\n",
      "78 is the number you wrote \n",
      "your number should be biggger\n",
      "80 is the number you wrote \n",
      "your number should be biggger\n",
      "85 is the number you wrote \n",
      "you guessed it right\n",
      "actual number was 85\n"
     ]
    }
   ],
   "source": [
    "import random\n",
    "x = random.randint(1,100)\n",
    "for i in range (10):\n",
    "    y = input(\"please write your number\")\n",
    "    y = int(y)\n",
    "    print(f\"{y} is the number you wrote \")\n",
    "    if x > y:\n",
    "        print('your number should be biggger')\n",
    "    elif x<y:\n",
    "        print('your number should be smaller')\n",
    "    else:\n",
    "        print('you guessed it right')\n",
    "        break\n",
    "\n",
    "print(f'actual number was {x}')"
   ]
  },
  {
   "cell_type": "code",
   "execution_count": 1,
   "id": "78a219ea",
   "metadata": {},
   "outputs": [],
   "source": [
    "def apple(a,b):\n",
    "    return a +b"
   ]
  },
  {
   "cell_type": "code",
   "execution_count": 2,
   "id": "f80a9c41",
   "metadata": {},
   "outputs": [
    {
     "data": {
      "text/plain": [
       "1020000"
      ]
     },
     "execution_count": 2,
     "metadata": {},
     "output_type": "execute_result"
    }
   ],
   "source": [
    "apple(1000000,20000)"
   ]
  },
  {
   "cell_type": "code",
   "execution_count": 3,
   "id": "16b45635",
   "metadata": {},
   "outputs": [
    {
     "data": {
      "text/plain": [
       "7"
      ]
     },
     "execution_count": 3,
     "metadata": {},
     "output_type": "execute_result"
    }
   ],
   "source": [
    "apple(5,2)"
   ]
  },
  {
   "cell_type": "code",
   "execution_count": 5,
   "id": "671a85d5",
   "metadata": {},
   "outputs": [
    {
     "data": {
      "text/plain": [
       "42450634"
      ]
     },
     "execution_count": 5,
     "metadata": {},
     "output_type": "execute_result"
    }
   ],
   "source": [
    "apple(42147782,302852)"
   ]
  }
 ],
 "metadata": {
  "kernelspec": {
   "display_name": "base",
   "language": "python",
   "name": "python3"
  },
  "language_info": {
   "codemirror_mode": {
    "name": "ipython",
    "version": 3
   },
   "file_extension": ".py",
   "mimetype": "text/x-python",
   "name": "python",
   "nbconvert_exporter": "python",
   "pygments_lexer": "ipython3",
   "version": "3.13.5"
  }
 },
 "nbformat": 4,
 "nbformat_minor": 5
}
