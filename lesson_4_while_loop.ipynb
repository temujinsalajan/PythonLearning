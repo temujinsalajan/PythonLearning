{
 "cells": [
  {
   "cell_type": "code",
   "execution_count": 3,
   "id": "2bb77500",
   "metadata": {},
   "outputs": [
    {
     "name": "stdout",
     "output_type": "stream",
     "text": [
      "10\n",
      "100\n",
      "1000\n",
      "10000\n",
      "100000\n",
      "1000000\n"
     ]
    }
   ],
   "source": [
    "x = 10\n",
    "while True:\n",
    "    print(x)\n",
    "    x = x * 10\n",
    "    if x > 1000000:\n",
    "        break"
   ]
  },
  {
   "cell_type": "code",
   "execution_count": 4,
   "id": "1410e44c",
   "metadata": {},
   "outputs": [],
   "source": [
    "# it will ask the name and the name will store in list"
   ]
  },
  {
   "cell_type": "code",
   "execution_count": null,
   "id": "37628206",
   "metadata": {},
   "outputs": [],
   "source": [
    "names = []\n",
    "\n"
   ]
  },
  {
   "cell_type": "code",
   "execution_count": 4,
   "id": "5851b550",
   "metadata": {},
   "outputs": [
    {
     "name": "stdout",
     "output_type": "stream",
     "text": [
      "['temujin', '', '', '', '', '', '', '', '', '', 'chinguun', '', '', '', '', '', '', '', '', '', '', '', '', 'umair']\n"
     ]
    }
   ],
   "source": [
    "while True:\n",
    "    n=input(\"please write your name:\")\n",
    "    names.append(n)\n",
    "    q = input('do you want to exist while loop press quit if you want to add new name press any other key...')\n",
    "    if q == \"quit\":\n",
    "        break\n",
    "    print(names)\n"
   ]
  },
  {
   "cell_type": "code",
   "execution_count": null,
   "id": "f85693ed",
   "metadata": {},
   "outputs": [],
   "source": []
  }
 ],
 "metadata": {
  "kernelspec": {
   "display_name": "base",
   "language": "python",
   "name": "python3"
  },
  "language_info": {
   "codemirror_mode": {
    "name": "ipython",
    "version": 3
   },
   "file_extension": ".py",
   "mimetype": "text/x-python",
   "name": "python",
   "nbconvert_exporter": "python",
   "pygments_lexer": "ipython3",
   "version": "3.13.5"
  }
 },
 "nbformat": 4,
 "nbformat_minor": 5
}
