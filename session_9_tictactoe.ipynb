{
 "cells": [
  {
   "cell_type": "code",
   "execution_count": 2,
   "id": "95be5cf3",
   "metadata": {},
   "outputs": [],
   "source": [
    "import numpy as np"
   ]
  },
  {
   "cell_type": "code",
   "execution_count": 4,
   "id": "94044f8d",
   "metadata": {},
   "outputs": [
    {
     "data": {
      "text/plain": [
       "array([['', '', ''],\n",
       "       ['', '', ''],\n",
       "       ['', '', '']], dtype='<U1')"
      ]
     },
     "execution_count": 4,
     "metadata": {},
     "output_type": "execute_result"
    }
   ],
   "source": [
    "board = np.array([['','',''],['','',''],['','','']])\n",
    "board"
   ]
  },
  {
   "cell_type": "code",
   "execution_count": 12,
   "id": "bc6852be",
   "metadata": {},
   "outputs": [
    {
     "data": {
      "text/plain": [
       "array([['x', '', 'x'],\n",
       "       ['', 'x', ''],\n",
       "       ['', '', 'x']], dtype='<U1')"
      ]
     },
     "execution_count": 12,
     "metadata": {},
     "output_type": "execute_result"
    }
   ],
   "source": [
    "x = 1\n",
    "y = 1\n",
    "board[x,y]= 'x'\n",
    "board"
   ]
  },
  {
   "cell_type": "code",
   "execution_count": 13,
   "id": "18f9a0d0",
   "metadata": {},
   "outputs": [
    {
     "data": {
      "text/plain": [
       "True"
      ]
     },
     "execution_count": 13,
     "metadata": {},
     "output_type": "execute_result"
    }
   ],
   "source": [
    "all(board.diagonal() == 'x')"
   ]
  },
  {
   "cell_type": "code",
   "execution_count": 14,
   "id": "79e18661",
   "metadata": {},
   "outputs": [
    {
     "data": {
      "text/plain": [
       "array([['x', '', 'x'],\n",
       "       ['', 'x', ''],\n",
       "       ['', '', 'x']], dtype='<U1')"
      ]
     },
     "execution_count": 14,
     "metadata": {},
     "output_type": "execute_result"
    }
   ],
   "source": [
    "board"
   ]
  },
  {
   "cell_type": "code",
   "execution_count": 15,
   "id": "dce2fc7e",
   "metadata": {},
   "outputs": [
    {
     "data": {
      "text/plain": [
       "['', '', '', '', '', '', '', '', '']"
      ]
     },
     "execution_count": 15,
     "metadata": {},
     "output_type": "execute_result"
    }
   ],
   "source": [
    "x = [''] * 9\n",
    "x"
   ]
  },
  {
   "cell_type": "code",
   "execution_count": null,
   "id": "89519e18",
   "metadata": {},
   "outputs": [
    {
     "name": "stdout",
     "output_type": "stream",
     "text": [
      "['', '', '']\n",
      "['', '', '']\n",
      "['', '', '']\n"
     ]
    }
   ],
   "source": [
    "print(x[0:3])\n",
    "print(x[3:6])\n",
    "print(x[6:9])"
   ]
  },
  {
   "cell_type": "code",
   "execution_count": 17,
   "id": "7b38c375",
   "metadata": {},
   "outputs": [],
   "source": [
    "x[0] = 'x'"
   ]
  },
  {
   "cell_type": "code",
   "execution_count": null,
   "id": "76d3eb34",
   "metadata": {},
   "outputs": [
    {
     "data": {
      "text/plain": [
       "True"
      ]
     },
     "execution_count": 18,
     "metadata": {},
     "output_type": "execute_result"
    }
   ],
   "source": []
  },
  {
   "cell_type": "code",
   "execution_count": null,
   "id": "9c54a937",
   "metadata": {},
   "outputs": [],
   "source": []
  }
 ],
 "metadata": {
  "kernelspec": {
   "display_name": "base",
   "language": "python",
   "name": "python3"
  },
  "language_info": {
   "codemirror_mode": {
    "name": "ipython",
    "version": 3
   },
   "file_extension": ".py",
   "mimetype": "text/x-python",
   "name": "python",
   "nbconvert_exporter": "python",
   "pygments_lexer": "ipython3",
   "version": "3.13.5"
  }
 },
 "nbformat": 4,
 "nbformat_minor": 5
}
